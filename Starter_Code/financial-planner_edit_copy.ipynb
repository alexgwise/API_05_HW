{
 "cells": [
  {
   "cell_type": "markdown",
   "metadata": {},
   "source": [
    "# Unit 5 - Financial Planning\n"
   ]
  },
  {
   "cell_type": "code",
   "execution_count": 16,
   "metadata": {},
   "outputs": [],
   "source": [
    "# Initial imports\n",
    "import os\n",
    "import requests\n",
    "import pandas as pd\n",
    "from dotenv import load_dotenv\n",
    "import alpaca_trade_api as tradeapi\n",
    "from MCForecastTools import MCSimulation\n",
    "import json\n",
    "%matplotlib inline"
   ]
  },
  {
   "cell_type": "code",
   "execution_count": 17,
   "metadata": {},
   "outputs": [
    {
     "data": {
      "text/plain": [
       "True"
      ]
     },
     "execution_count": 17,
     "metadata": {},
     "output_type": "execute_result"
    }
   ],
   "source": [
    "# Load .env enviroment variables\n",
    "load_dotenv()"
   ]
  },
  {
   "cell_type": "markdown",
   "metadata": {},
   "source": [
    "## Part 1 - Personal Finance Planner"
   ]
  },
  {
   "cell_type": "markdown",
   "metadata": {},
   "source": [
    "### Collect Crypto Prices Using the `requests` Library"
   ]
  },
  {
   "cell_type": "code",
   "execution_count": 18,
   "metadata": {},
   "outputs": [],
   "source": [
    "# Set current amount of crypto assets\n",
    "my_btc = 1.2\n",
    "my_eth = 5.3"
   ]
  },
  {
   "cell_type": "code",
   "execution_count": 19,
   "metadata": {},
   "outputs": [],
   "source": [
    "# Crypto API URLs\n",
    "btc_url = \"https://api.alternative.me/v2/ticker/Bitcoin/?convert=USD\"\n",
    "eth_url = \"https://api.alternative.me/v2/ticker/Ethereum/?convert=USD\""
   ]
  },
  {
   "cell_type": "code",
   "execution_count": 20,
   "metadata": {},
   "outputs": [
    {
     "data": {
      "text/plain": [
       "17815.34"
      ]
     },
     "execution_count": 20,
     "metadata": {},
     "output_type": "execute_result"
    }
   ],
   "source": [
    "# Fetch current BTC price\n",
    "btc_response = requests.get(btc_url).json()\n",
    "btc_response\n",
    "btc_price = btc_response['data']['1']['quotes']['USD']['price']\n",
    "btc_price"
   ]
  },
  {
   "cell_type": "code",
   "execution_count": 21,
   "metadata": {},
   "outputs": [
    {
     "data": {
      "text/plain": [
       "475.71"
      ]
     },
     "execution_count": 21,
     "metadata": {},
     "output_type": "execute_result"
    }
   ],
   "source": [
    "# Fetch current ETH price\n",
    "eth_response = requests.get(eth_url).json()\n",
    "eth_response\n",
    "eth_price = eth_response['data']['1027']['quotes']['USD']['price']\n",
    "eth_price"
   ]
  },
  {
   "cell_type": "code",
   "execution_count": 22,
   "metadata": {},
   "outputs": [
    {
     "name": "stdout",
     "output_type": "stream",
     "text": [
      "The current value of your 1.2 BTC is $21378.41\n",
      "The current value of your 5.3 ETH is $2521.26\n"
     ]
    }
   ],
   "source": [
    "# Compute current value of my crypto\n",
    "my_btc_value = my_btc * btc_price\n",
    "my_eth_value = my_eth * eth_price\n",
    "\n",
    "# Print current crypto wallet balance\n",
    "print(f\"The current value of your {my_btc} BTC is ${my_btc_value:0.2f}\")\n",
    "print(f\"The current value of your {my_eth} ETH is ${my_eth_value:0.2f}\")"
   ]
  },
  {
   "cell_type": "markdown",
   "metadata": {},
   "source": [
    "### Collect Investments Data Using Alpaca: `SPY` (stocks) and `AGG` (bonds)"
   ]
  },
  {
   "cell_type": "code",
   "execution_count": 23,
   "metadata": {},
   "outputs": [],
   "source": [
    "# Current amount of shares\n",
    "my_agg = 200\n",
    "my_spy = 50"
   ]
  },
  {
   "cell_type": "code",
   "execution_count": 24,
   "metadata": {},
   "outputs": [],
   "source": [
    "# Set Alpaca API key and secret\n",
    "alpaca_api_key = os.getenv(\"ALPACA_API_KEY\")\n",
    "alpaca_secret_key = os.getenv(\"ALPACA_SECRET_KEY\")\n",
    "type(alpaca_api_key)\n",
    "type(alpaca_secret_key)\n",
    "# Create the Alpaca API object\n",
    "alpaca = tradeapi.REST(\n",
    "    alpaca_api_key,\n",
    "    alpaca_secret_key,\n",
    "    api_version=\"v2\")"
   ]
  },
  {
   "cell_type": "code",
   "execution_count": 25,
   "metadata": {},
   "outputs": [
    {
     "data": {
      "text/html": [
       "<div>\n",
       "<style scoped>\n",
       "    .dataframe tbody tr th:only-of-type {\n",
       "        vertical-align: middle;\n",
       "    }\n",
       "\n",
       "    .dataframe tbody tr th {\n",
       "        vertical-align: top;\n",
       "    }\n",
       "\n",
       "    .dataframe thead tr th {\n",
       "        text-align: left;\n",
       "    }\n",
       "</style>\n",
       "<table border=\"1\" class=\"dataframe\">\n",
       "  <thead>\n",
       "    <tr>\n",
       "      <th></th>\n",
       "      <th colspan=\"5\" halign=\"left\">AGG</th>\n",
       "      <th colspan=\"5\" halign=\"left\">SPY</th>\n",
       "    </tr>\n",
       "    <tr>\n",
       "      <th></th>\n",
       "      <th>open</th>\n",
       "      <th>high</th>\n",
       "      <th>low</th>\n",
       "      <th>close</th>\n",
       "      <th>volume</th>\n",
       "      <th>open</th>\n",
       "      <th>high</th>\n",
       "      <th>low</th>\n",
       "      <th>close</th>\n",
       "      <th>volume</th>\n",
       "    </tr>\n",
       "  </thead>\n",
       "  <tbody>\n",
       "    <tr>\n",
       "      <th>2020-07-14 00:00:00-04:00</th>\n",
       "      <td>118.58</td>\n",
       "      <td>118.74</td>\n",
       "      <td>118.58</td>\n",
       "      <td>118.655</td>\n",
       "      <td>3611959</td>\n",
       "      <td>313.3</td>\n",
       "      <td>319.76</td>\n",
       "      <td>312</td>\n",
       "      <td>318.89</td>\n",
       "      <td>79292036</td>\n",
       "    </tr>\n",
       "  </tbody>\n",
       "</table>\n",
       "</div>"
      ],
      "text/plain": [
       "                              AGG                                      SPY  \\\n",
       "                             open    high     low    close   volume   open   \n",
       "2020-07-14 00:00:00-04:00  118.58  118.74  118.58  118.655  3611959  313.3   \n",
       "\n",
       "                                                          \n",
       "                             high  low   close    volume  \n",
       "2020-07-14 00:00:00-04:00  319.76  312  318.89  79292036  "
      ]
     },
     "execution_count": 25,
     "metadata": {},
     "output_type": "execute_result"
    }
   ],
   "source": [
    "# Format current date as ISO format\n",
    "today = pd.Timestamp(\"2020-07-14\", tz=\"America/New_York\").isoformat()\n",
    "\n",
    "# Set the tickers\n",
    "tickers = [\"AGG\", \"SPY\"]\n",
    "\n",
    "# Set timeframe to '1D' for Alpaca API\n",
    "timeframe = \"1D\"\n",
    "\n",
    "# Get current closing prices for SPY and AGG\n",
    "df_portfolio= alpaca.get_barset(\n",
    "    tickers,\n",
    "    timeframe,\n",
    "    start= today,\n",
    "    end=today\n",
    ").df\n",
    "\n",
    "\n",
    "# Preview DataFrame\n",
    "df_portfolio"
   ]
  },
  {
   "cell_type": "code",
   "execution_count": 26,
   "metadata": {},
   "outputs": [
    {
     "name": "stdout",
     "output_type": "stream",
     "text": [
      "Current AGG closing price: $118.655\n",
      "Current SPY closing price: $318.89\n"
     ]
    }
   ],
   "source": [
    "# Pick AGG and SPY close prices\n",
    "agg_close_price= float(df_portfolio[\"AGG\"][\"close\"])\n",
    "spy_close_price= float (df_portfolio[\"SPY\"][\"close\"])\n",
    "\n",
    "# Print AGG and SPY close prices\n",
    "print(f\"Current AGG closing price: ${agg_close_price}\")\n",
    "print(f\"Current SPY closing price: ${spy_close_price}\")"
   ]
  },
  {
   "cell_type": "code",
   "execution_count": 27,
   "metadata": {},
   "outputs": [
    {
     "name": "stdout",
     "output_type": "stream",
     "text": [
      "The current value of your 50 SPY shares is $15944.50\n",
      "The current value of your 200 AGG shares is $23731.00\n"
     ]
    }
   ],
   "source": [
    "# Compute the current value of shares\n",
    "my_spy_value=my_spy * spy_close_price\n",
    "my_agg_value= my_agg * agg_close_price\n",
    "\n",
    "# Print current value of share\n",
    "print(f\"The current value of your {my_spy} SPY shares is ${my_spy_value:0.2f}\")\n",
    "print(f\"The current value of your {my_agg} AGG shares is ${my_agg_value:0.2f}\")"
   ]
  },
  {
   "cell_type": "markdown",
   "metadata": {},
   "source": [
    "### Savings Health Analysis"
   ]
  },
  {
   "cell_type": "code",
   "execution_count": 28,
   "metadata": {},
   "outputs": [
    {
     "data": {
      "text/html": [
       "<div>\n",
       "<style scoped>\n",
       "    .dataframe tbody tr th:only-of-type {\n",
       "        vertical-align: middle;\n",
       "    }\n",
       "\n",
       "    .dataframe tbody tr th {\n",
       "        vertical-align: top;\n",
       "    }\n",
       "\n",
       "    .dataframe thead th {\n",
       "        text-align: right;\n",
       "    }\n",
       "</style>\n",
       "<table border=\"1\" class=\"dataframe\">\n",
       "  <thead>\n",
       "    <tr style=\"text-align: right;\">\n",
       "      <th></th>\n",
       "      <th>amount</th>\n",
       "    </tr>\n",
       "  </thead>\n",
       "  <tbody>\n",
       "    <tr>\n",
       "      <th>crypto</th>\n",
       "      <td>23899.671</td>\n",
       "    </tr>\n",
       "    <tr>\n",
       "      <th>shares</th>\n",
       "      <td>39675.500</td>\n",
       "    </tr>\n",
       "  </tbody>\n",
       "</table>\n",
       "</div>"
      ],
      "text/plain": [
       "           amount\n",
       "crypto  23899.671\n",
       "shares  39675.500"
      ]
     },
     "metadata": {},
     "output_type": "display_data"
    }
   ],
   "source": [
    "# Set monthly household income\n",
    "monthly_income = 12000\n",
    "\n",
    "# Create savings DataFrame\n",
    "value_data = [my_btc_value + my_eth_value, my_agg_value + my_spy_value]\n",
    "df_savings = pd.DataFrame(value_data, index=[\"crypto\",\"shares\"],columns=[\"amount\"])\n",
    "\n",
    "# Display savings DataFrame\n",
    "display(df_savings)"
   ]
  },
  {
   "cell_type": "code",
   "execution_count": 29,
   "metadata": {},
   "outputs": [
    {
     "data": {
      "text/plain": [
       "<matplotlib.axes._subplots.AxesSubplot at 0x1a7e97193c8>"
      ]
     },
     "execution_count": 29,
     "metadata": {},
     "output_type": "execute_result"
    },
    {
     "data": {
      "image/png": "[encoded data removed]",
      "text/plain": [
       "<Figure size 360x360 with 1 Axes>"
      ]
     },
     "metadata": {},
     "output_type": "display_data"
    }
   ],
   "source": [
    "# Plot savings pie chart\n",
    "df_savings.plot(kind=\"pie\", figsize=(5,5), y=\"amount\", legend = False, title = \"Savings Composition\")"
   ]
  },
  {
   "cell_type": "code",
   "execution_count": 30,
   "metadata": {},
   "outputs": [
    {
     "name": "stdout",
     "output_type": "stream",
     "text": [
      "63575.171\n"
     ]
    },
    {
     "ename": "ValueError",
     "evalue": "The truth value of a Series is ambiguous. Use a.empty, a.bool(), a.item(), a.any() or a.all().",
     "output_type": "error",
     "traceback": [
      "\u001b[1;31m---------------------------------------------------------------------------\u001b[0m",
      "\u001b[1;31mValueError\u001b[0m                                Traceback (most recent call last)",
      "\u001b[1;32m<ipython-input-30-37940582c157>\u001b[0m in \u001b[0;36m<module>\u001b[1;34m\u001b[0m\n\u001b[0;32m      8\u001b[0m \u001b[1;33m\u001b[0m\u001b[0m\n\u001b[0;32m      9\u001b[0m \u001b[1;31m# Validate saving health\u001b[0m\u001b[1;33m\u001b[0m\u001b[1;33m\u001b[0m\u001b[1;33m\u001b[0m\u001b[0m\n\u001b[1;32m---> 10\u001b[1;33m \u001b[1;32mif\u001b[0m \u001b[0msavings\u001b[0m \u001b[1;33m>\u001b[0m \u001b[0memergency_fund\u001b[0m\u001b[1;33m:\u001b[0m\u001b[1;33m\u001b[0m\u001b[1;33m\u001b[0m\u001b[0m\n\u001b[0m\u001b[0;32m     11\u001b[0m     \u001b[0mprint\u001b[0m\u001b[1;33m(\u001b[0m\u001b[1;34m\"Congratulations on having sufficient savings!\"\u001b[0m\u001b[1;33m)\u001b[0m\u001b[1;33m\u001b[0m\u001b[1;33m\u001b[0m\u001b[0m\n\u001b[0;32m     12\u001b[0m \u001b[1;32melif\u001b[0m \u001b[0msavings\u001b[0m \u001b[1;33m==\u001b[0m \u001b[0memergency_fund\u001b[0m\u001b[1;33m:\u001b[0m\u001b[1;33m\u001b[0m\u001b[1;33m\u001b[0m\u001b[0m\n",
      "\u001b[1;32m~\\anaconda3\\envs\\alpacaenv\\lib\\site-packages\\pandas\\core\\generic.py\u001b[0m in \u001b[0;36m__nonzero__\u001b[1;34m(self)\u001b[0m\n\u001b[0;32m   1477\u001b[0m     \u001b[1;32mdef\u001b[0m \u001b[0m__nonzero__\u001b[0m\u001b[1;33m(\u001b[0m\u001b[0mself\u001b[0m\u001b[1;33m)\u001b[0m\u001b[1;33m:\u001b[0m\u001b[1;33m\u001b[0m\u001b[1;33m\u001b[0m\u001b[0m\n\u001b[0;32m   1478\u001b[0m         raise ValueError(\n\u001b[1;32m-> 1479\u001b[1;33m             \u001b[1;34mf\"The truth value of a {type(self).__name__} is ambiguous. \"\u001b[0m\u001b[1;33m\u001b[0m\u001b[1;33m\u001b[0m\u001b[0m\n\u001b[0m\u001b[0;32m   1480\u001b[0m             \u001b[1;34m\"Use a.empty, a.bool(), a.item(), a.any() or a.all().\"\u001b[0m\u001b[1;33m\u001b[0m\u001b[1;33m\u001b[0m\u001b[0m\n\u001b[0;32m   1481\u001b[0m         )\n",
      "\u001b[1;31mValueError\u001b[0m: The truth value of a Series is ambiguous. Use a.empty, a.bool(), a.item(), a.any() or a.all()."
     ]
    }
   ],
   "source": [
    "# Set ideal emergency fund\n",
    "emergency_fund = monthly_income * 3\n",
    "\n",
    "# Calculate total amount of savings\n",
    "savings = df_savings.sum()\n",
    "print(savings[\"amount\"])\n",
    "savings_required = savings - emergency_fund\n",
    "\n",
    "# Validate saving health\n",
    "if savings > emergency_fund:\n",
    "    print(\"Congratulations on having sufficient savings!\")\n",
    "elif savings == emergency_fund:\n",
    "    print(\"Congratulations on reaching your savings goal!\")\n",
    "elif savings < emergency_fund:\n",
    "    print(\"You need $\" + savings_required + \" to reach your emergency fund goal.\")"
   ]
  },
  {
   "cell_type": "markdown",
   "metadata": {},
   "source": [
    "## Part 2 - Retirement Planning\n",
    "\n",
    "### Monte Carlo Simulation"
   ]
  },
  {
   "cell_type": "code",
   "execution_count": 35,
   "metadata": {},
   "outputs": [],
   "source": [
    "# Set start and end dates of five years back from today.\n",
    "# Sample results may vary from the solution based on the time frame chosen\n",
    "start_date = pd.Timestamp('2015-11-18', tz='America/New_York').isoformat()\n",
    "end_date = pd.Timestamp('2020-11-18', tz='America/New_York').isoformat()"
   ]
  },
  {
   "cell_type": "code",
   "execution_count": 36,
   "metadata": {},
   "outputs": [
    {
     "data": {
      "text/html": [
       "<div>\n",
       "<style scoped>\n",
       "    .dataframe tbody tr th:only-of-type {\n",
       "        vertical-align: middle;\n",
       "    }\n",
       "\n",
       "    .dataframe tbody tr th {\n",
       "        vertical-align: top;\n",
       "    }\n",
       "\n",
       "    .dataframe thead tr th {\n",
       "        text-align: left;\n",
       "    }\n",
       "</style>\n",
       "<table border=\"1\" class=\"dataframe\">\n",
       "  <thead>\n",
       "    <tr>\n",
       "      <th></th>\n",
       "      <th colspan=\"5\" halign=\"left\">AGG</th>\n",
       "      <th colspan=\"5\" halign=\"left\">SPY</th>\n",
       "    </tr>\n",
       "    <tr>\n",
       "      <th></th>\n",
       "      <th>open</th>\n",
       "      <th>high</th>\n",
       "      <th>low</th>\n",
       "      <th>close</th>\n",
       "      <th>volume</th>\n",
       "      <th>open</th>\n",
       "      <th>high</th>\n",
       "      <th>low</th>\n",
       "      <th>close</th>\n",
       "      <th>volume</th>\n",
       "    </tr>\n",
       "  </thead>\n",
       "  <tbody>\n",
       "    <tr>\n",
       "      <th>2015-11-18 00:00:00-05:00</th>\n",
       "      <td>108.65</td>\n",
       "      <td>108.71</td>\n",
       "      <td>108.5400</td>\n",
       "      <td>108.62</td>\n",
       "      <td>1824597</td>\n",
       "      <td>206.04</td>\n",
       "      <td>208.90</td>\n",
       "      <td>205.99</td>\n",
       "      <td>208.71</td>\n",
       "      <td>94448031</td>\n",
       "    </tr>\n",
       "    <tr>\n",
       "      <th>2015-11-19 00:00:00-05:00</th>\n",
       "      <td>108.76</td>\n",
       "      <td>108.90</td>\n",
       "      <td>108.6800</td>\n",
       "      <td>108.68</td>\n",
       "      <td>2655263</td>\n",
       "      <td>208.59</td>\n",
       "      <td>209.05</td>\n",
       "      <td>208.20</td>\n",
       "      <td>208.53</td>\n",
       "      <td>61897641</td>\n",
       "    </tr>\n",
       "    <tr>\n",
       "      <th>2015-11-20 00:00:00-05:00</th>\n",
       "      <td>108.77</td>\n",
       "      <td>108.82</td>\n",
       "      <td>108.6000</td>\n",
       "      <td>108.62</td>\n",
       "      <td>1893587</td>\n",
       "      <td>209.45</td>\n",
       "      <td>210.12</td>\n",
       "      <td>208.86</td>\n",
       "      <td>209.35</td>\n",
       "      <td>67021762</td>\n",
       "    </tr>\n",
       "    <tr>\n",
       "      <th>2015-11-23 00:00:00-05:00</th>\n",
       "      <td>108.65</td>\n",
       "      <td>108.76</td>\n",
       "      <td>108.5700</td>\n",
       "      <td>108.68</td>\n",
       "      <td>1595639</td>\n",
       "      <td>209.38</td>\n",
       "      <td>209.98</td>\n",
       "      <td>208.52</td>\n",
       "      <td>209.06</td>\n",
       "      <td>54738608</td>\n",
       "    </tr>\n",
       "    <tr>\n",
       "      <th>2015-11-24 00:00:00-05:00</th>\n",
       "      <td>108.75</td>\n",
       "      <td>108.80</td>\n",
       "      <td>108.6611</td>\n",
       "      <td>108.73</td>\n",
       "      <td>1153821</td>\n",
       "      <td>207.87</td>\n",
       "      <td>209.83</td>\n",
       "      <td>207.41</td>\n",
       "      <td>209.38</td>\n",
       "      <td>81748691</td>\n",
       "    </tr>\n",
       "  </tbody>\n",
       "</table>\n",
       "</div>"
      ],
      "text/plain": [
       "                              AGG                                        SPY  \\\n",
       "                             open    high       low   close   volume    open   \n",
       "2015-11-18 00:00:00-05:00  108.65  108.71  108.5400  108.62  1824597  206.04   \n",
       "2015-11-19 00:00:00-05:00  108.76  108.90  108.6800  108.68  2655263  208.59   \n",
       "2015-11-20 00:00:00-05:00  108.77  108.82  108.6000  108.62  1893587  209.45   \n",
       "2015-11-23 00:00:00-05:00  108.65  108.76  108.5700  108.68  1595639  209.38   \n",
       "2015-11-24 00:00:00-05:00  108.75  108.80  108.6611  108.73  1153821  207.87   \n",
       "\n",
       "                                                             \n",
       "                             high     low   close    volume  \n",
       "2015-11-18 00:00:00-05:00  208.90  205.99  208.71  94448031  \n",
       "2015-11-19 00:00:00-05:00  209.05  208.20  208.53  61897641  \n",
       "2015-11-20 00:00:00-05:00  210.12  208.86  209.35  67021762  \n",
       "2015-11-23 00:00:00-05:00  209.98  208.52  209.06  54738608  \n",
       "2015-11-24 00:00:00-05:00  209.83  207.41  209.38  81748691  "
      ]
     },
     "execution_count": 36,
     "metadata": {},
     "output_type": "execute_result"
    }
   ],
   "source": [
    "# Get 5 years' worth of historical data for SPY and AGG\n",
    "# set tickers\n",
    "tickers = [\"AGG\", \"SPY\"]\n",
    "# set timeframe\n",
    "timeframe = \"1D\"\n",
    "# get the data\n",
    "df_stock_data = alpaca.get_barset(\n",
    "    tickers,\n",
    "    timeframe,\n",
    "    start = start_date,\n",
    "    end = end_date\n",
    ").df\n",
    "# Display sample data\n",
    "df_stock_data.head()"
   ]
  },
  {
   "cell_type": "code",
   "execution_count": null,
   "metadata": {},
   "outputs": [],
   "source": [
    "# Configuring a Monte Carlo simulation to forecast 30 years cumulative returns\n",
    "# YOUR CODE HERE!"
   ]
  },
  {
   "cell_type": "code",
   "execution_count": null,
   "metadata": {},
   "outputs": [],
   "source": [
    "# Printing the simulation input data\n",
    "# YOUR CODE HERE!"
   ]
  },
  {
   "cell_type": "code",
   "execution_count": null,
   "metadata": {},
   "outputs": [],
   "source": [
    "# Running a Monte Carlo simulation to forecast 30 years cumulative returns\n",
    "# YOUR CODE HERE!"
   ]
  },
  {
   "cell_type": "code",
   "execution_count": null,
   "metadata": {},
   "outputs": [],
   "source": [
    "# Plot simulation outcomes\n",
    "# YOUR CODE HERE!"
   ]
  },
  {
   "cell_type": "code",
   "execution_count": null,
   "metadata": {},
   "outputs": [],
   "source": [
    "# Plot probability distribution and confidence intervals\n",
    "# YOUR CODE HERE!"
   ]
  },
  {
   "cell_type": "markdown",
   "metadata": {},
   "source": [
    "### Retirement Analysis"
   ]
  },
  {
   "cell_type": "code",
   "execution_count": null,
   "metadata": {},
   "outputs": [],
   "source": [
    "# Fetch summary statistics from the Monte Carlo simulation results\n",
    "# YOUR CODE HERE!\n",
    "\n",
    "# Print summary statistics\n",
    "# YOUR CODE HERE!"
   ]
  },
  {
   "cell_type": "markdown",
   "metadata": {},
   "source": [
    "### Calculate the expected portfolio return at the 95% lower and upper confidence intervals based on a `$20,000` initial investment."
   ]
  },
  {
   "cell_type": "code",
   "execution_count": null,
   "metadata": {},
   "outputs": [],
   "source": [
    "# Set initial investment\n",
    "initial_investment = 20000\n",
    "\n",
    "# Use the lower and upper `95%` confidence intervals to calculate the range of the possible outcomes of our $20,000\n",
    "# YOUR CODE HERE!\n",
    "\n",
    "# Print results\n",
    "print(f\"There is a 95% chance that an initial investment of ${initial_investment} in the portfolio\"\n",
    "      f\" over the next 30 years will end within in the range of\"\n",
    "      f\" ${ci_lower} and ${ci_upper}\")"
   ]
  },
  {
   "cell_type": "markdown",
   "metadata": {},
   "source": [
    "### Calculate the expected portfolio return at the `95%` lower and upper confidence intervals based on a `50%` increase in the initial investment."
   ]
  },
  {
   "cell_type": "code",
   "execution_count": null,
   "metadata": {},
   "outputs": [],
   "source": [
    "# Set initial investment\n",
    "initial_investment = 20000 * 1.5\n",
    "\n",
    "# Use the lower and upper `95%` confidence intervals to calculate the range of the possible outcomes of our $30,000\n",
    "# YOUR CODE HERE!\n",
    "\n",
    "# Print results\n",
    "print(f\"There is a 95% chance that an initial investment of ${initial_investment} in the portfolio\"\n",
    "      f\" over the next 30 years will end within in the range of\"\n",
    "      f\" ${ci_lower} and ${ci_upper}\")"
   ]
  },
  {
   "cell_type": "markdown",
   "metadata": {},
   "source": [
    "## Optional Challenge - Early Retirement\n",
    "\n",
    "\n",
    "### Five Years Retirement Option"
   ]
  },
  {
   "cell_type": "code",
   "execution_count": null,
   "metadata": {},
   "outputs": [],
   "source": [
    "# Configuring a Monte Carlo simulation to forecast 5 years cumulative returns\n",
    "# YOUR CODE HERE!"
   ]
  },
  {
   "cell_type": "code",
   "execution_count": null,
   "metadata": {},
   "outputs": [],
   "source": [
    "# Running a Monte Carlo simulation to forecast 5 years cumulative returns\n",
    "# YOUR CODE HERE!"
   ]
  },
  {
   "cell_type": "code",
   "execution_count": null,
   "metadata": {},
   "outputs": [],
   "source": [
    "# Plot simulation outcomes\n",
    "# YOUR CODE HERE!"
   ]
  },
  {
   "cell_type": "code",
   "execution_count": null,
   "metadata": {},
   "outputs": [],
   "source": [
    "# Plot probability distribution and confidence intervals\n",
    "# YOUR CODE HERE!"
   ]
  },
  {
   "cell_type": "code",
   "execution_count": null,
   "metadata": {},
   "outputs": [],
   "source": [
    "# Fetch summary statistics from the Monte Carlo simulation results\n",
    "# YOUR CODE HERE!\n",
    "\n",
    "# Print summary statistics\n",
    "# YOUR CODE HERE!"
   ]
  },
  {
   "cell_type": "code",
   "execution_count": null,
   "metadata": {},
   "outputs": [],
   "source": [
    "# Set initial investment\n",
    "# YOUR CODE HERE!\n",
    "\n",
    "# Use the lower and upper `95%` confidence intervals to calculate the range of the possible outcomes of our $60,000\n",
    "# YOUR CODE HERE!\n",
    "\n",
    "# Print results\n",
    "print(f\"There is a 95% chance that an initial investment of ${initial_investment} in the portfolio\"\n",
    "      f\" over the next 5 years will end within in the range of\"\n",
    "      f\" ${ci_lower_five} and ${ci_upper_five}\")"
   ]
  },
  {
   "cell_type": "markdown",
   "metadata": {},
   "source": [
    "### Ten Years Retirement Option"
   ]
  },
  {
   "cell_type": "code",
   "execution_count": null,
   "metadata": {},
   "outputs": [],
   "source": [
    "# Configuring a Monte Carlo simulation to forecast 10 years cumulative returns\n",
    "# YOUR CODE HERE!"
   ]
  },
  {
   "cell_type": "code",
   "execution_count": null,
   "metadata": {},
   "outputs": [],
   "source": [
    "# Running a Monte Carlo simulation to forecast 10 years cumulative returns\n",
    "# YOUR CODE HERE!"
   ]
  },
  {
   "cell_type": "code",
   "execution_count": null,
   "metadata": {},
   "outputs": [],
   "source": [
    "# Plot simulation outcomes\n",
    "# YOUR CODE HERE!"
   ]
  },
  {
   "cell_type": "code",
   "execution_count": null,
   "metadata": {},
   "outputs": [],
   "source": [
    "# Plot probability distribution and confidence intervals\n",
    "# YOUR CODE HERE!"
   ]
  },
  {
   "cell_type": "code",
   "execution_count": null,
   "metadata": {},
   "outputs": [],
   "source": [
    "# Fetch summary statistics from the Monte Carlo simulation results\n",
    "# YOUR CODE HERE!\n",
    "\n",
    "# Print summary statistics\n",
    "# YOUR CODE HERE!"
   ]
  },
  {
   "cell_type": "code",
   "execution_count": null,
   "metadata": {},
   "outputs": [],
   "source": [
    "# Set initial investment\n",
    "# YOUR CODE HERE!\n",
    "\n",
    "# Use the lower and upper `95%` confidence intervals to calculate the range of the possible outcomes of our $60,000\n",
    "# YOUR CODE HERE!\n",
    "\n",
    "# Print results\n",
    "print(f\"There is a 95% chance that an initial investment of ${initial_investment} in the portfolio\"\n",
    "      f\" over the next 10 years will end within in the range of\"\n",
    "      f\" ${ci_lower_ten} and ${ci_upper_ten}\")"
   ]
  }
 ],
 "metadata": {
  "kernelspec": {
   "display_name": "Python 3",
   "language": "python",
   "name": "python3"
  },
  "language_info": {
   "codemirror_mode": {
    "name": "ipython",
    "version": 3
   },
   "file_extension": ".py",
   "mimetype": "text/x-python",
   "name": "python",
   "nbconvert_exporter": "python",
   "pygments_lexer": "ipython3",
   "version": "3.7.7"
  }
 },
 "nbformat": 4,
 "nbformat_minor": 4
}
